{
 "cells": [
  {
   "cell_type": "markdown",
   "metadata": {},
   "source": [
    "# Object-Oriented-Programming (OOP)"
   ]
  },
  {
   "cell_type": "markdown",
   "metadata": {},
   "source": [
    "## Tasks Today:\n",
    "\n",
    "   \n",
    "\n",
    "1) <b>Creating a Class (Initializing/Declaring)</b> <br>\n",
    "2) <b>Using a Class (Instantiating)</b> <br>\n",
    " &nbsp;&nbsp;&nbsp;&nbsp; a) Creating One Instance <br>\n",
    " &nbsp;&nbsp;&nbsp;&nbsp; b) Creating Multiple Instances <br>\n",
    " &nbsp;&nbsp;&nbsp;&nbsp; c) In-Class Exercise #1 - Create a Class 'Car' and instantiate three different makes of cars <br>\n",
    "3) <b>The \\__init\\__() Method</b> <br>\n",
    " &nbsp;&nbsp;&nbsp;&nbsp; a) The 'self' Attribute <br>\n",
    "4) <b>Class Attributes</b> <br>\n",
    " &nbsp;&nbsp;&nbsp;&nbsp; a) Initializing Attributes <br>\n",
    " &nbsp;&nbsp;&nbsp;&nbsp; b) Setting an Attribute Outside of the \\__init\\__() Method <br>\n",
    " &nbsp;&nbsp;&nbsp;&nbsp; c) Setting Defaults for Attributes <br>\n",
    " &nbsp;&nbsp;&nbsp;&nbsp; d) Accessing Class Attributes <br>\n",
    " &nbsp;&nbsp;&nbsp;&nbsp; e) Changing Class Attributes <br>\n",
    " &nbsp;&nbsp;&nbsp;&nbsp; f) In-Class Exercise #2 - Add a color and wheels attribute to your 'Car' class <br>\n",
    "5) <b>Class Methods</b> <br>\n",
    " &nbsp;&nbsp;&nbsp;&nbsp; a) Creating <br>\n",
    " &nbsp;&nbsp;&nbsp;&nbsp; b) Calling <br>\n",
    " &nbsp;&nbsp;&nbsp;&nbsp; c) Modifying an Attribute's Value Through a Method <br>\n",
    " &nbsp;&nbsp;&nbsp;&nbsp; d) Incrementing an Attribute's Value Through a Method <br>\n",
    " &nbsp;&nbsp;&nbsp;&nbsp; e) In-Class Exercise #3 - Add a method that prints the cars color and wheel number, then call them <br>\n",
    "6) <b>Inheritance</b> <br>\n",
    " &nbsp;&nbsp;&nbsp;&nbsp; a) Syntax for Inheriting from a Parent Class <br>\n",
    " &nbsp;&nbsp;&nbsp;&nbsp; b) The \\__init\\__() Method for a Child Class (super()) <br>\n",
    " &nbsp;&nbsp;&nbsp;&nbsp; c) Defining Attributes and Methods for the Child Class <br>\n",
    " &nbsp;&nbsp;&nbsp;&nbsp; d) Method Overriding <br>\n",
    " &nbsp;&nbsp;&nbsp;&nbsp; e) In-Class Exercise #4 - Create a class 'Ford' that inherits from 'Car' class and initialize it as a Blue Ford Explorer with 4 wheels using the super() method <br>\n",
    "7) <b>Encapsulation</b> <br>\n",
    " &nbsp;&nbsp;&nbsp;&nbsp; a) Public Access Modifier <br>\n",
    " &nbsp;&nbsp;&nbsp;&nbsp; b) Protected Access Modifier <br>\n",
    " &nbsp;&nbsp;&nbsp;&nbsp; c) Private Access Modifier <br>\n",
    "8) <b>Classes as Attributes</b> <br>\n",
    "9) <b>Exercises</b> <br>\n",
    " &nbsp;&nbsp;&nbsp;&nbsp; a) Exercise #1 - Turn the shopping cart program from last week into an object-oriented program <br>"
   ]
  },
  {
   "cell_type": "markdown",
   "metadata": {},
   "source": [
    "## Classes\n",
    "\n",
    "<p>A class is a blueprint for creating objects. It defines attributes (characteristics) and methods (functions) that the objects created from the class will have. It provides a way to structure and organize code in object-oriented programming. </p>"
   ]
  },
  {
   "cell_type": "markdown",
   "metadata": {},
   "source": [
    "## Creating a Class (Initializing/Declaring)\n",
    "<p>When creating a class, function, or even a variable you are initializing that object. Initializing and Declaring occur at the same time in Python, whereas in lower level languages you have to declare an object before initializing it. This is the first step in the process of using a class.</p>"
   ]
  },
  {
   "cell_type": "code",
   "execution_count": null,
   "metadata": {},
   "outputs": [],
   "source": [
    "class Car():\n",
    "    wheels = 4\n",
    "    color = \"blue\"\n",
    "    "
   ]
  },
  {
   "cell_type": "markdown",
   "metadata": {},
   "source": [
    "## Using a Class (Instantiating)\n",
    "<p>The process of creating a class is called <i>Instantiating</i>. Each time you create a variable of that type of class, it is referred to as an <i>Instance</i> of that class. This is the second step in the process of using a class.</p>"
   ]
  },
  {
   "cell_type": "markdown",
   "metadata": {},
   "source": [
    "##### Creating One Instance"
   ]
  },
  {
   "cell_type": "code",
   "execution_count": null,
   "metadata": {},
   "outputs": [],
   "source": [
    "ford = Car()\n",
    "print(ford.wheels)\n",
    "print(ford.color)\n",
    "\n",
    "# print(ford.__dict__)  <-----can give a dictionary"
   ]
  },
  {
   "cell_type": "markdown",
   "metadata": {},
   "source": [
    "##### Creating Multiple Instances"
   ]
  },
  {
   "cell_type": "code",
   "execution_count": null,
   "metadata": {},
   "outputs": [],
   "source": [
    "# instantiation of the class\n",
    "mazda = Car()\n",
    "honda = Car()\n",
    "mclaren = Car()\n",
    "\n",
    "# accessing atrributes of the instances\n",
    "print(mazda.color)   #<----they all have same atributes of class Car\n",
    "print(honda.color)\n",
    "print(mclaren.wheels)\n"
   ]
  },
  {
   "cell_type": "markdown",
   "metadata": {},
   "source": [
    "##### In-Class Exercise #1 - Create a Class 'Car' and Instantiate three different makes of cars"
   ]
  },
  {
   "cell_type": "code",
   "execution_count": null,
   "metadata": {},
   "outputs": [],
   "source": [
    "class Car():\n",
    "    engine = \"It's working\"\n",
    "    color = \"green\"\n",
    "    windows = 2\n",
    "    \n",
    "\n",
    "nissan = Car()\n",
    "kia = Car()\n",
    "tesla = Car()\n",
    "print(nissan.engine)\n",
    "print(kia.color)\n",
    "print(tesla.windows)"
   ]
  },
  {
   "cell_type": "markdown",
   "metadata": {},
   "source": [
    "## The \\__init\\__() Method <br>\n",
    "<p>This method is used in almost every created class, and called only once upon the creation of the class instance. This method will initialize all variables needed for the object.</p>"
   ]
  },
  {
   "cell_type": "code",
   "execution_count": null,
   "metadata": {},
   "outputs": [],
   "source": [
    "class Car():\n",
    "#     __init__ gets called every time we instantiate a new object\n",
    "    def __init__(self, wheels, color, doors):\n",
    "        # self references the objects we eventualy create from this class\n",
    "        self.wheels = wheels\n",
    "        self.color = color\n",
    "        self.doors = doors\n",
    "        # print(\"this is the __init__method being called\")   This will be printed every time a new instance is created\n",
    "\n",
    "mazda = Car(4, 'blue', 4)\n",
    "ford = Car(4, \"red\", 2)\n",
    "\n",
    "#      self.wheels\n",
    "print(mazda.wheels)\n",
    "#      self.color\n",
    "print(ford.color)\n",
    "#      self.doors\n",
    "print(ford.doors)"
   ]
  },
  {
   "cell_type": "markdown",
   "metadata": {},
   "source": [
    "##### The 'self' Attribute <br>\n",
    "<p>This attribute is required to keep track of specific instance's attributes. Without the self attribute, the program would not know how to reference or keep track of an instance's attributes.</p>"
   ]
  },
  {
   "cell_type": "code",
   "execution_count": null,
   "metadata": {},
   "outputs": [],
   "source": [
    "class Pokemon():\n",
    "    def __init__(self, name, type_):\n",
    "#          self holds the place of the objects we create from this class\n",
    "        self.name = name\n",
    "        self.type_ = type_\n",
    "        # print(f\"This is {self.name}. It is a {self.type_} type\")\n",
    "\n",
    "charmader = Pokemon(\"Charmander\", \"Fire\")\n",
    "squirtle = Pokemon(\"Squirtle\", \"Water\")\n",
    "pokemon3 = Pokemon(\"Heracross\", \"Bug\")"
   ]
  },
  {
   "cell_type": "markdown",
   "metadata": {},
   "source": [
    "## Class Attributes <br>\n",
    "<p>While variables are inside of a class, they are referred to as attributes and not variables. When someone says 'attribute' you know they're speaking about a class. Attributes can be initialized through the init method, or outside of it.</p>"
   ]
  },
  {
   "cell_type": "markdown",
   "metadata": {},
   "source": [
    "##### Initializing Attributes"
   ]
  },
  {
   "cell_type": "code",
   "execution_count": null,
   "metadata": {},
   "outputs": [],
   "source": [
    "bulbasaur = Pokemon(\"Bulbasaur\", \"Grass\")"
   ]
  },
  {
   "cell_type": "markdown",
   "metadata": {},
   "source": [
    "##### Accessing Class Attributes"
   ]
  },
  {
   "cell_type": "code",
   "execution_count": null,
   "metadata": {
    "scrolled": true
   },
   "outputs": [],
   "source": [
    "print(bulbasaur.name)\n",
    "print(bulbasaur.type_)\n",
    "print(bulbasaur.__dict__)\n",
    "help(bulbasaur)"
   ]
  },
  {
   "cell_type": "markdown",
   "metadata": {},
   "source": [
    "##### Setting Defaults for Attributes"
   ]
  },
  {
   "cell_type": "code",
   "execution_count": null,
   "metadata": {},
   "outputs": [],
   "source": [
    "class Car():\n",
    "    def __init__(self, color):\n",
    "        self.color = color\n",
    "        self.wheels = 4    #<---default\n",
    "honda = Car(\"yellow\")\n",
    "print(honda.color)\n",
    "print(honda.wheels)\n",
    "ferrari = Car(\"red\")\n",
    "print(ferrari.wheels)\n",
    "print(ferrari.color)"
   ]
  },
  {
   "cell_type": "code",
   "execution_count": null,
   "metadata": {},
   "outputs": [],
   "source": [
    "# setting a default parameter inside the init method\n",
    "class Car():\n",
    "    def __init__(self, color, engine, wheels = 4):\n",
    "        self.color = color\n",
    "        self.engine = engine\n",
    "        self.wheels = wheels\n",
    "\n",
    "ford = Car(\"green\", \"v8\")\n",
    "print(ford.color, ford.engine, ford.wheels)\n",
    "\n",
    "dodge = Car(\"black\", \"v8\", 6)\n",
    "print(dodge.color, dodge.engine, dodge.wheels)"
   ]
  },
  {
   "cell_type": "markdown",
   "metadata": {},
   "source": [
    "##### Constant attributes <br>\n",
    "<p>In Python, there is no strict concept of \"constants\" within a class as there is in some other programming languages. However, it's a common convention to use uppercase variable names for values that are intended to be treated as constants within a class.</p>"
   ]
  },
  {
   "cell_type": "code",
   "execution_count": null,
   "metadata": {},
   "outputs": [],
   "source": [
    "class Car():\n",
    "    GOES_FAST = True   # constant attribute - accessible to any instance of the Car class and is not likely to change\n",
    "    def __init__(self, color, engine, wheels):\n",
    "        self.color = color\n",
    "        self.engine = engine\n",
    "        self.wheels = wheels\n",
    "\n",
    "ford = Car(\"green\", \"v8\", 4)\n",
    "print(ford.GOES_FAST)\n",
    "dodge = Car(\"black\", \"v8\", 6)\n",
    "print(dodge.GOES_FAST)"
   ]
  },
  {
   "cell_type": "markdown",
   "metadata": {},
   "source": [
    "##### Changing Class Attributes <br>\n",
    "<p>Keep in mind there are global class attributes and then there are attributes only available to each class instance which won't effect other classes.</p>"
   ]
  },
  {
   "cell_type": "code",
   "execution_count": null,
   "metadata": {},
   "outputs": [],
   "source": [
    "class Car():\n",
    "    def __init__(self, color):\n",
    "        self.wheels = 4\n",
    "        self.color = color\n",
    "honda = Car(\"magenta\")\n",
    "# my_dict[\"key\"] = \"value\"\n",
    "print(f\"Before attribute change: {honda.wheels}\")\n",
    "honda.wheels = 6\n",
    "print(f\"After attribute change: {honda.wheels}\")\n",
    "\n",
    "print(f\"Before color change: {honda.color}\")\n",
    "honda.color = \"orange\"\n",
    "print(f\"After color change: {honda.color}\")"
   ]
  },
  {
   "cell_type": "markdown",
   "metadata": {},
   "source": [
    "##### In-Class Exercise #2 - Add two new attributes to your 'Car' class then print out two different instances with different doors and seats. Then take that bad boy to the shop and change those attributes. Either with an input or just by changing them"
   ]
  },
  {
   "cell_type": "code",
   "execution_count": null,
   "metadata": {},
   "outputs": [],
   "source": [
    "class Car():\n",
    "    def __init__(self, color, tint, seats, doors):\n",
    "        self.tint = tint\n",
    "        self.seats = seats\n",
    "        self.color = color\n",
    "        self.doors = doors\n",
    "\n",
    "honda = Car(\"blue\", \"non-tinted\", \"cloth\", 2)\n",
    "print(\"before change\")\n",
    "print(honda.color, honda.tint, honda.seats, honda.doors)\n",
    "print(\"after change\")\n",
    "honda.tint = \"front tint\"\n",
    "honda.doors = 4\n",
    "honda.seats = \"leather\"\n",
    "\n",
    "print(honda.tint)\n",
    "print(honda.doors)\n",
    "print(honda.seats)\n",
    "\n",
    "\n",
    "# Alex H's answer:\n",
    "class Car():\n",
    "    def __init__(self, color, wheels, doors, pimp_my_ride):\n",
    "        self.color = color\n",
    "        self.wheels = wheels\n",
    "        self.doors = doors\n",
    "        self.pimp_my_ride = pimp_my_ride\n",
    "        \n",
    "\n",
    "print(\"WELCOME TO MTV PIMP MY RIDE FEATURING XZIBIT \\n\")\n",
    "toyota = Car(\"rustic rust\", 4, 4, \"nothing special\")\n",
    "print(f\"we took this old beat up Toyota with {toyota.color} with {toyota.pimp_my_ride} inside it to this... \\n\")\n",
    "\n",
    "\n",
    "toyota.color = \"flaming hot cheeto red\"\n",
    "toyota.pimp_my_ride = \"2 flatscreen TVs, a xbox360, and a HOT TUB\"\n",
    "\n",
    "print(f\"TOTALLY REALISTIC AND PRACTICAL {toyota.color} Toyota with {toyota.pimp_my_ride} inside it to this 🤘🤘\")\n"
   ]
  },
  {
   "cell_type": "markdown",
   "metadata": {},
   "source": [
    "## Class Methods <br>\n",
    "<p>While inside of a class, functions are referred to as 'methods'. If you hear someone mention methods, they're speaking about classes. Methods are essentially functions, but only callable on the instances of a class.</p>"
   ]
  },
  {
   "cell_type": "markdown",
   "metadata": {},
   "source": [
    "##### Creating"
   ]
  },
  {
   "cell_type": "code",
   "execution_count": null,
   "metadata": {},
   "outputs": [],
   "source": [
    "class Bus():\n",
    "    \"\"\"\n",
    "    The bus will have doors, seats, seats available, color, and a bus driver\n",
    "    \n",
    "    Attributes:\n",
    "    -doors: integer\n",
    "    -seats: integer\n",
    "    -seats_available: integer\n",
    "    -color: string\n",
    "    -bus_driver: string\n",
    "    \n",
    "    \"\"\"\n",
    "    def __init__(self, doors, seats, seats_available, color, bus_driver):\n",
    "        self.doors = doors\n",
    "        self.seats = seats\n",
    "        self.seats_available = seats_available\n",
    "        self.color = color\n",
    "        self.bus_driver = bus_driver\n",
    "\n",
    "#    decrement the number of seats availabe\n",
    "    def load_passengers(self):\n",
    "        if self.seats_available <= 0:\n",
    "            print(\"The bus is full!  You can't take anymore passengers! :(\")\n",
    "            \n",
    "        else: \n",
    "            passengers = int(input(\"How many passengers are getting on? \"))\n",
    "            self.seats_available -= passengers\n",
    "            if self.seats_available < 0:\n",
    "                print(f\"You left {abs(self.seats_available)} by the road!\")\n",
    "                self.seats_available = 0\n",
    "            else:\n",
    "                print(f\"{passengers} passengers have boarded.  There are {self.seats_available} seats left on the bus!\")\n",
    "\n",
    "    \n",
    "#    increment the number of seats available\n",
    "    def unload_passengers(self):\n",
    "        if self.seats_available >= self.seats:\n",
    "            print(\"There is no one left on the bus unload.\")\n",
    "        else:\n",
    "            unload = int(input(\"How many passengers are getting off the bus? \"))\n",
    "            self.seats_available += unload\n",
    "            if self.seats_available > self.seats:\n",
    "                self.seats_available = self.seats\n",
    "\n",
    "            print(f\"{unload} passengers have left the bus.  There are {self.seats_available} seats left.\")\n",
    "\n",
    "    \n",
    "    #  change bus_driver attribute\n",
    "    def change_driver(self):\n",
    "        change = input(\"Who is replacing you? \")\n",
    "        self.bus_driver = change\n",
    "        print(f\"The new bus driver is {self.bus_driver}.  Be sure to thank them!\")\n",
    "\n",
    "    # display number of seats available\n",
    "    def check_seats(self):\n",
    "        print(f\"There are {self.seats_available} seats available.\")\n",
    "\n",
    "    # display bus color\n",
    "    def admire_bus(self):\n",
    "        print(f\"Would you just look at that beautiful {self.color} bus! WOULD YA JUST LOOK AT IT!\")\n",
    "        "
   ]
  },
  {
   "cell_type": "markdown",
   "metadata": {},
   "source": [
    "##### Calling"
   ]
  },
  {
   "cell_type": "code",
   "execution_count": null,
   "metadata": {
    "scrolled": true
   },
   "outputs": [],
   "source": [
    "def run():\n",
    "    ryan_bus = Bus(2, 90, 45, \"yellow\", \"Ryan\")\n",
    "\n",
    "    while True: \n",
    "        response = input(\"What would you like to do? Load/Unload/Change Driver/Check Seats/Admire/Quit\").lower()\n",
    "        if response == \"load\":\n",
    "            ryan_bus.load_passengers()\n",
    "\n",
    "        elif response == \"unload\":\n",
    "            ryan_bus.unload_passengers()\n",
    "\n",
    "        elif response == \"change driver\":\n",
    "            ryan_bus.change_driver()\n",
    "\n",
    "        elif response == \"check seats\":\n",
    "            ryan_bus.check_seats()\n",
    "\n",
    "        elif response == \"admire\":\n",
    "            ryan_bus.admire_bus()\n",
    "\n",
    "        elif response == \"quit\":\n",
    "            print(\"OH NO! There are still passengers to be picked up.  Please dont abandon them!\")\n",
    "            break\n",
    "\n",
    "        else: \n",
    "            print(\"That is not a valid response.  Please pick from the list and try again!\")\n",
    "\n",
    "run()"
   ]
  },
  {
   "cell_type": "code",
   "execution_count": null,
   "metadata": {},
   "outputs": [],
   "source": [
    "class Cart():\n",
    "    def __init__(self):\n",
    "        self.my_cart = {}\n",
    "        \n",
    "        \n",
    "    def add_to_cart(self):\n",
    "        item = input(\"what is your item\")\n",
    "        quantity = input(\"what is your quantity\")\n",
    "        self.my_cart[item] = quantity\n",
    "        \n",
    "def run():\n",
    "    cart = Cart()\n",
    "    while True:\n",
    "        response = input(\"what would you like to do?\")\n",
    "        if reponse == \"add\":\n",
    "            cart.add_to_cart()\n",
    "            \n",
    "            \n",
    "my_cart = {}       \n",
    "while True:\n",
    "    response = input(\"What would you like to do?\")\n",
    "    if response == \"add\":\n",
    "        item = input(\"what is your item\")\n",
    "        quantity = input(\"what is your quantity\")\n",
    "        my_cart[item] = quantity"
   ]
  },
  {
   "cell_type": "markdown",
   "metadata": {},
   "source": [
    "##### Modifying an Attribute's Value Through a Method"
   ]
  },
  {
   "cell_type": "code",
   "execution_count": null,
   "metadata": {},
   "outputs": [],
   "source": [
    "# see above\n",
    "# load_passengers()\n",
    "# unload_passengers()\n",
    "# change_driver()"
   ]
  },
  {
   "cell_type": "markdown",
   "metadata": {},
   "source": [
    "##### Incrementing an Attribute's Value Through a Method"
   ]
  },
  {
   "cell_type": "code",
   "execution_count": null,
   "metadata": {},
   "outputs": [],
   "source": [
    "#unload_passengers()"
   ]
  },
  {
   "cell_type": "markdown",
   "metadata": {},
   "source": [
    "##### In-Class Exercise #3 - Add a method that takes in three parameters of year, doors and seats and prints out a formatted print statement with make, model, year, seats, and doors"
   ]
  },
  {
   "cell_type": "code",
   "execution_count": null,
   "metadata": {},
   "outputs": [],
   "source": [
    "# Create class with 2 paramters inside of the __init__ which are make and model, more if you'd like\n",
    "\n",
    "# Create two methods for your class\n",
    "\n",
    "# Create a method that alters an attribute for your class\n",
    "\n",
    "# Display method that prints information about the vehicle\n",
    "\n",
    "# Output: This car is from 2019 and is a Ford Expolorer and has 4 doors and 5 seats\n",
    "\n",
    "# reminder in order to call class methods object.method()\n",
    "\n",
    "class Another():\n",
    "    def __init__(self, make, model):\n",
    "        self.make = make\n",
    "        self.model = model\n",
    "        self.year = 2019\n",
    "        self.door = 4\n",
    "        self.seats = 4\n",
    "\n",
    "    def change(self, year, door, seats):\n",
    "        self.year = year\n",
    "        self.door = door\n",
    "        self.seats = seats\n",
    "\n",
    "    def info(self):\n",
    "        print(f\"This car is from {self.year} and is a {self.make} {self.model} and has {self.door} doors and {self.seats} seats\")\n",
    "\n",
    "ford = Another(\"Ford\", \"Explorer\")\n",
    "ford.change(2024, 2, 6)\n",
    "ford.info()\n",
    "\n",
    "\n",
    "\n"
   ]
  },
  {
   "cell_type": "code",
   "execution_count": null,
   "metadata": {},
   "outputs": [],
   "source": [
    "# Alex H's answer:\n",
    "class Transformer():\n",
    "    def __init__(self, shape, lazors, hidden_blades, seatwarmers):\n",
    "        self.shape = shape\n",
    "        self.lazors = lazors\n",
    "        self.hidden_blades = hidden_blades\n",
    "        self.seatwarmers = seatwarmers\n",
    "        \n",
    "    def disguise_yoself(self):\n",
    "        print(f\"we are currently in {self.shape} mode\")\n",
    "        transformation = input(\"Are we in vroom vrooming in 'stealth' mode or in 'fight' mode ready to kick Megatron's b*********t ?\") \n",
    "        self.shape = transformation \n",
    "        print(f\"Autobots roll out, we are in {transformation} mode\")\n",
    "        \n",
    "    def upgrade_weapons(self):\n",
    "        if self.lazors == 0:\n",
    "            print(f\"Oh no! Where are all my lazors\")\n",
    "            self.lazors += 1\n",
    "        elif lazors >= 1:\n",
    "            lazor_upgrade = int(input(\"How many more lazors are we adding chief: \"))\n",
    "            lazors += lazor_upgrade\n",
    "            print(f\"LAZORS OUT, Gundam STYLE. Adding {lazor_upgrade}, total lazor {self.lazors}\")"
   ]
  },
  {
   "cell_type": "code",
   "execution_count": null,
   "metadata": {},
   "outputs": [],
   "source": [
    "def run():\n",
    "    \n",
    "    autobots = Transformer(\"stealth\", 3, 4, True)\n",
    "    \n",
    "    while True:\n",
    "        response = input(\"What are we checking on? Disguise, Lazors, Hidden Blades, or Seatwarmers? \")\n",
    "        \n",
    "        if response.lower() == \"disguise\":\n",
    "            autobots.disguise_yoself()\n",
    "            \n",
    "        elif response.lower() == 'lazors':\n",
    "            autobots.upgrade_weapons()\n",
    "            \n",
    "        elif response.lower() == \"hidden blades\":\n",
    "            autobots.hidden_blades()\n",
    "        \n",
    "        elif response.lower() == \"seatwarmers\":\n",
    "            autobots.seatwarmers()\n",
    "            \n",
    "run()"
   ]
  },
  {
   "cell_type": "code",
   "execution_count": null,
   "metadata": {},
   "outputs": [],
   "source": [
    "class Car():\n",
    "    def __init__(self, make, model, doors, seats, year):\n",
    "        self.make = make\n",
    "        self.model = model\n",
    "        self.doors = doors\n",
    "        self.seats = seats\n",
    "        self.year = year\n",
    "\n",
    "    # altering self.seats with a user input\n",
    "    def add_seats(self):\n",
    "        new_seats = int(input(\"How many seats would you like to add? \"))\n",
    "        # adding int from above to self.seats\n",
    "        self.seats += new_seats\n",
    "        print(f\"You have added {new_seats} seats to your car\")\n",
    "\n",
    "    def car_info(self):\n",
    "        print(f\"This is a {self.year} {self.make} {self.model} and has {self.doors} doors and {self.seats} seats.\")\n",
    "\n",
    "mazda = Car(\"Mazada\", \"3\", 4, 5, 2015)\n",
    "mazda.add_seats()\n",
    "mazda.car_info()\n",
    "\n"
   ]
  },
  {
   "cell_type": "markdown",
   "metadata": {},
   "source": [
    "## Inheritance <br>\n",
    "<p>You can create a child-parent relationship between two classes by using inheritance. What this allows you to do is have overriding methods, but also inherit traits from the parent class. Think of it as an actual parent and child, the child will inherit the parent's genes, as will the classes in OOP</p>"
   ]
  },
  {
   "cell_type": "markdown",
   "metadata": {},
   "source": [
    "##### Syntax for Inheriting from a Parent Class"
   ]
  },
  {
   "cell_type": "code",
   "execution_count": null,
   "metadata": {},
   "outputs": [],
   "source": [
    "# creation of parent class\n",
    "class Animal():\n",
    "    ACCELERATION = 9.8\n",
    "\n",
    "    def __init__(self, name, species, legs = 4):\n",
    "        self.name = name\n",
    "        self.species = species\n",
    "        self.legs = legs\n",
    "\n",
    "#     generic parent method\n",
    "    def make_sound(self):\n",
    "        print(\"REEEEEEE\")\n",
    "\n",
    "#  creation of our child class\n",
    "#         parent class goes in the parenteses\n",
    "class Dog(Animal):\n",
    "    SPEED = 15\n",
    "\n",
    "    def __init__(self, name, species = \"Dog\"):\n",
    "                       #  dont need the self for super() portion\n",
    "        super().__init__(name, species)  # call the parent init method upon instantiation\n",
    "\n",
    "    def print_info(self):\n",
    "        print(f\"{self.name} runs at {self.SPEED} mph and accelerates at {self.ACCELERATION} mps^2\")\n",
    "\n",
    "# creation of our grandchild class\n",
    "class Mutt(Dog):\n",
    "    CUTE = True\n",
    "    PRECIOUS = True\n",
    "\n",
    "    def __init__(self, name, eye_color, species = \"Mutt\"):\n",
    "        #call the parent class of Dog's __init__ to initialize shared attributes with Dog class\n",
    "        Dog.__init__(self, name, species)\n",
    "        self.eye_color = eye_color    #specific to the Mutt class so it is set outside of the Dog.__init__()\n",
    "        # self.eye_color is not an attribute set by the parent or grandparent classes\n",
    "\n",
    "\n",
    "#    overriding parent method\n",
    "    def make_sound(self):\n",
    "        print(\"ROOOOOOOOOOO\")\n",
    "\n",
    " "
   ]
  },
  {
   "cell_type": "code",
   "execution_count": null,
   "metadata": {},
   "outputs": [],
   "source": [
    "# instantiating a parent class and accessing attributes\n",
    "\n",
    "dolphin = Animal(\"Flipper\", \"dolphin\")\n",
    "print(dolphin.legs)\n",
    "dolphin.legs = 0\n",
    "print(dolphin.legs)\n",
    "print(dolphin.ACCELERATION)\n",
    "print(dolphin.name)\n",
    "# print(dolphin.SPEED) CANNOT ACCESS child attributes\n",
    "dolphin.make_sound()"
   ]
  },
  {
   "cell_type": "code",
   "execution_count": null,
   "metadata": {},
   "outputs": [],
   "source": [
    "# instantiating our child class and accessing attributes\n",
    "pitbull = Dog(\"Titan\")\n",
    "# accessing Dog attributes\n",
    "print(pitbull.SPEED)\n",
    "# accessing parent method\n",
    "pitbull.make_sound()\n",
    "#  accessing a default attribute from the parent method\n",
    "print(pitbull.legs)\n",
    "# default species attribute for the Dog class\n",
    "print(pitbull.species)\n",
    "# Accessing parent constant attribute\n",
    "print(pitbull.ACCELERATION)\n",
    "# Dog method of print_info()\n",
    "pitbull.print_info()"
   ]
  },
  {
   "cell_type": "code",
   "execution_count": null,
   "metadata": {},
   "outputs": [],
   "source": [
    "# instantiating our grandchild class\n",
    "# this will have access to attributes and methods from the Dog class and the Animal class\n",
    "skippy_skip = Mutt(\"Skippy\", \"brown\")\n",
    "# access grandparent attribute of ACCLERATION\n",
    "print(skippy_skip.ACCELERATION)\n",
    "# access the parent attribute of SPEED\n",
    "print(skippy_skip.SPEED)\n",
    "# accessing parent method of print_info()\n",
    "skippy_skip.print_info()\n",
    "\n",
    "# accessing unique attributes and methods from the Mutt class\n",
    "print(skippy_skip.CUTE)\n",
    "print(skippy_skip.PRECIOUS)\n",
    "# accessing unique eye_color attribute\n",
    "print(skippy_skip.eye_color)\n",
    "# accessing the overidden method of make_sound()\n",
    "skippy_skip.make_sound()\n"
   ]
  },
  {
   "cell_type": "markdown",
   "metadata": {},
   "source": [
    "##### The \\__init\\__() Method for a Child Class - super()"
   ]
  },
  {
   "cell_type": "code",
   "execution_count": null,
   "metadata": {
    "scrolled": true
   },
   "outputs": [],
   "source": [
    "class Dog(Animal):\n",
    "    SPEED = 15\n",
    "# super() method bringing in attributes from the parent class\n",
    "    def __init__(self, name, species = \"Dog\"):\n",
    "                       #  dont need the self for super() portion\n",
    "        super().__init__(name, species)  # call the parent init method upon instantiation\n",
    "\n",
    "    def print_info(self):\n",
    "        print(f\"{self.name} runs at {self.SPEED} mph and accelerates at {self.ACCELERATION} mps^2\")"
   ]
  },
  {
   "cell_type": "markdown",
   "metadata": {},
   "source": [
    "##### Defining Attributes and Methods for the Child Class"
   ]
  },
  {
   "cell_type": "code",
   "execution_count": null,
   "metadata": {},
   "outputs": [],
   "source": [
    "# See Aboveclass Mutt(Dog):\n",
    "    CUTE = True\n",
    "    PRECIOUS = True\n",
    "\n",
    "    def __init__(self, name, eye_color, species = \"Mutt\"):\n",
    "        #call the parent class of Dog's __init__ to initialize shared attributes with Dog class\n",
    "        Dog.__init__(self, name, species)\n",
    "        self.eye_color = eye_color    #specific to the Mutt class so it is set outside of the Dog.__init__()\n",
    "        # self.eye_color is not an attribute set by the parent or grandparent classes\n",
    "\n",
    "\n",
    "#    overriding parent method\n",
    "    def make_sound(self):\n",
    "        print(\"ROOOOOOOOOOO\")\n"
   ]
  },
  {
   "cell_type": "markdown",
   "metadata": {},
   "source": [
    "##### Method Overriding"
   ]
  },
  {
   "cell_type": "code",
   "execution_count": null,
   "metadata": {},
   "outputs": [],
   "source": [
    "# See Above"
   ]
  },
  {
   "cell_type": "markdown",
   "metadata": {},
   "source": [
    "## Encapsulation\n"
   ]
  },
  {
   "cell_type": "markdown",
   "metadata": {},
   "source": [
    "<p>Encapsulation is one of the fundamental concepts in object-oriented programming (OOP). It describes the idea of wrapping data and the methods that work on data within one unit. This puts restrictions on accessing variables and methods directly and can prevent the accidental modification of data. f"
   ]
  },
  {
   "cell_type": "markdown",
   "metadata": {},
   "source": [
    "### Access Modifiers\n"
   ]
  },
  {
   "cell_type": "markdown",
   "metadata": {},
   "source": [
    "#### Public\n",
    "<p> Attributes & methods default to public in classes. Meaning they can be accessed from anywhere. "
   ]
  },
  {
   "cell_type": "code",
   "execution_count": null,
   "metadata": {},
   "outputs": [],
   "source": [
    "#see above. All attributes & methods in the previous examples are public"
   ]
  },
  {
   "cell_type": "markdown",
   "metadata": {},
   "source": [
    "#### Protected \n",
    "<p>Protected attributes are denoted with a singular '_' underscore. Attributes & methods that are protected are only accessible in the class it derived from and any inherited classes. "
   ]
  },
  {
   "cell_type": "code",
   "execution_count": null,
   "metadata": {},
   "outputs": [],
   "source": [
    "class Animal():\n",
    "    ACCELERATION = 9.8\n",
    "\n",
    "    def __init__(self, name, species, legs = 4):\n",
    "        self.name = name\n",
    "        #   protected attribute\n",
    "        self._species = species\n",
    "        self.legs = legs\n",
    "\n",
    "#     generic parent method\n",
    "    def make_sound(self):\n",
    "        print(\"REEEEEEE\")\n",
    "\n",
    "#   protected method\n",
    "    def _get_species(self):\n",
    "        return self._species\n",
    "\n",
    "\n",
    "class Dog(Animal):\n",
    "    SPEED = 15\n",
    "# super() method bringing in attributes from the parent class\n",
    "    def __init__(self, name, species = \"Dog\"):\n",
    "                       #  dont need the self for super() portion\n",
    "        super().__init__(name, species)  # call the parent init method upon instantiation\n",
    "\n",
    "    def print_info(self):\n",
    "        print(f\"{self.name} runs at {self.SPEED} mph and accelerates at {self.ACCELERATION} mps^2\")\n",
    "\n",
    "    def display_species(self):\n",
    "        return self._get_species()    # accessing the protected method.  Allows us to create rules on how\n",
    "                                        # display information to the user\n",
    "        "
   ]
  },
  {
   "cell_type": "code",
   "execution_count": null,
   "metadata": {},
   "outputs": [],
   "source": [
    "lassy = Dog(\"Lassy\")\n",
    "print(lassy.display_species())"
   ]
  },
  {
   "cell_type": "markdown",
   "metadata": {},
   "source": [
    "#### Private \n",
    "<p>Private attributes are denoted with a double '__' underscore. Attributes & methods that are private are only accessible in the class it was derived from making them the most secure. "
   ]
  },
  {
   "cell_type": "code",
   "execution_count": null,
   "metadata": {},
   "outputs": [],
   "source": [
    "class Animal():\n",
    "    ACCELERATION = 9.8\n",
    "\n",
    "    def __init__(self, name, species, legs = 4):\n",
    "        self.name = name\n",
    "        #   private attribute\n",
    "        self.__species = species\n",
    "        self.legs = legs\n",
    "\n",
    "#     generic parent method\n",
    "    def make_sound(self):\n",
    "        print(\"REEEEEEE\")\n",
    "\n",
    "#    display a private attribute, only accessible to instance of this class\n",
    "    def display_species(self):\n",
    "        return self.__species\n",
    "\n",
    "\n",
    "class Dog(Animal):\n",
    "    SPEED = 15\n",
    "# super() method bringing in attributes from the parent class\n",
    "    def __init__(self, name, species = \"Dog\"):\n",
    "                       #  dont need the self for super() portion\n",
    "        super().__init__(name, species)  # call the parent init method upon instantiation\n",
    "\n",
    "    def print_info(self):\n",
    "        print(f\"{self.name} runs at {self.SPEED} mph and accelerates at {self.ACCELERATION} mps^2\")\n",
    "\n",
    "\n",
    "\n",
    "#     Dog class should not have access to private variable from the parent class\n",
    "\n",
    "    # def display_species(self):\n",
    "    #     return self._get_species()    # accessing the protected method.  Allows us to create rules on how\n",
    "    #                                     # display information to the user\n",
    "        "
   ]
  },
  {
   "cell_type": "code",
   "execution_count": null,
   "metadata": {},
   "outputs": [],
   "source": [
    "eyo = Dog(\"Eyo\")\n",
    "eyo.display_species()"
   ]
  },
  {
   "cell_type": "markdown",
   "metadata": {},
   "source": [
    "## Classes as Attributes <br>\n",
    "<p>Classes can also be used as attributes within another class. This is useful in situations where you need to keep variables locally stored, instead of globally stored.</p>"
   ]
  },
  {
   "cell_type": "code",
   "execution_count": null,
   "metadata": {},
   "outputs": [],
   "source": [
    "class Battery():\n",
    "    VOLTZ = 7.8\n",
    "\n",
    "    def __init__(self, cells):\n",
    "        self.cells = cells\n",
    "\n",
    "class Car():\n",
    "    def __init__(self, year, make, model, battery):\n",
    "        self.year = year\n",
    "        self.make = make\n",
    "        self.model = model\n",
    "        self.battery = battery\n",
    "\n",
    "    def print_info(self):\n",
    "        print(f'{self.year} {self.make} {self.model} {self.battery.cells} cell battery')\n",
    "                                                        #         ^ adding .cells (same as batt.cells)            \n",
    "    \n",
    "batt = Battery(20)\n",
    "\n",
    "tesla = Car(2024, \"Tesla\", \"ModelY\", batt)\n",
    "\n",
    "print(batt.cells)\n",
    "\n",
    "tesla.print_info()"
   ]
  },
  {
   "cell_type": "markdown",
   "metadata": {},
   "source": [
    "### Generators in Classes"
   ]
  },
  {
   "cell_type": "code",
   "execution_count": null,
   "metadata": {},
   "outputs": [],
   "source": []
  },
  {
   "cell_type": "markdown",
   "metadata": {},
   "source": [
    "# Exercises"
   ]
  },
  {
   "cell_type": "markdown",
   "metadata": {},
   "source": [
    "### Exercise 1 - Turn the shopping cart program from last week into an object-oriented program\n",
    "\n",
    "The comments in the cell below are there as a guide for thinking about the problem. However, if you feel a different way is best for you and your own thought process, please do what feels best for you by all means."
   ]
  },
  {
   "cell_type": "code",
   "execution_count": null,
   "metadata": {},
   "outputs": [],
   "source": [
    "# Create a class called cart that retains items and has methods to add, remove, and show\n",
    "\n",
    "class Cart():\n",
    "    pass\n",
    "    "
   ]
  },
  {
   "cell_type": "markdown",
   "metadata": {},
   "source": [
    "### Exercise 1 Option 2 - Create A Video Game Character Class using Object-Oriented Programming\n",
    "<p>The character class should have the following attributes: character type (i.e. ogre, human, elf, etc), health points, attack points, weapons (list or dictionary). The class should also have the following methods to deplete health points, regain health points, add or remove weapons, and show character stats.\n",
    "    "
   ]
  },
  {
   "cell_type": "code",
   "execution_count": null,
   "metadata": {},
   "outputs": [],
   "source": [
    "import random\n",
    "\n",
    "class Character():\n",
    "\n",
    "    def __init__(self, character_type, hp, attack_points, weapons = [\"sword\", \"spear\", \"bow and arrows\", \"staff\"]):\n",
    "        self.character_type = character_type\n",
    "        self.hp = hp\n",
    "        self.attack_points = attack_points\n",
    "        self.weapons = weapons\n",
    "        self.max_hp = hp     \n",
    "\n",
    "    def ouch(self):\n",
    "        dmg = random.randrange(1, self.hp+1)\n",
    "        random_event = [\"You encountered a monster!  Fight!\", \"Oh no... you ate something bad...\", \"Ouch! Papercut!!\", \"You encountered a group of bandits and they beat you up  :(\", \\\n",
    "                       \"You found a treasure chest!  Wait.. ITS A TRAP!!!\"]\n",
    "        print(random.choice(random_event))\n",
    "        print(f\"You took {dmg} damage!\")\n",
    "        self.hp -= dmg\n",
    "        print(f\"You have {self.hp} health points left!\")\n",
    "        if self.hp <= 0:\n",
    "            print(\"You are dead... RIP.... **insert sad, game over music**\")\n",
    "            # I tried adding a Break here to stop the program after the character dies, but it kept giving me an error.  What would you recommend to do here? \n",
    "            \n",
    "    def heal(self):\n",
    "        print(f\"Yaayy!! You found an inn!  Time to sleep... ZzzZzZZzz...\")\n",
    "        self.hp = self.max_hp\n",
    "        print(f\"Your health points are back to {self.max_hp}.\")\n",
    "\n",
    "    def add_weapons(self):\n",
    "        add = input(\"What item would you like to add to your bag? \").lower()\n",
    "        self.weapons.append(add)\n",
    "        print(f\"This is what you now have in your bag: {self.weapons}\")\n",
    "\n",
    "    def remove_weapons(self):\n",
    "        take_out = input(\"What item do you want to take out? \").lower()\n",
    "        if take_out not in self.weapons:\n",
    "            print(f'You dont have that item in your bag.')\n",
    "        else:\n",
    "            self.weapons.remove(take_out)\n",
    "            print(f\"This is what you now have in your bag: {self.weapons}\")\n",
    "\n",
    "    def show(self):\n",
    "        print(f\"You are a {self.character_type} with {self.hp} health points and {self.attack_points} attack points.  You are carrying {self.weapons}. \")\n",
    "\n",
    "\n"
   ]
  },
  {
   "cell_type": "code",
   "execution_count": null,
   "metadata": {},
   "outputs": [],
   "source": [
    "def run():\n",
    "    \n",
    "    gamer = Character(\"Human\", 100, 25)\n",
    "\n",
    "    \n",
    "    print(\"Hi new adventurer!!  Let's go save the world! \")\n",
    "    \n",
    "    while True:\n",
    "        print(\"\\n\")\n",
    "        choice = input(\"What would you like to do?  Explore / Rest / Add Weapons / Remove Weapons / Check Stats / Quit?  \")\n",
    "        if choice.lower() == \"quit\":\n",
    "            print(\"Thanks for playing!. Goodbye!\")\n",
    "            break\n",
    "            \n",
    "        elif choice.lower() == \"explore\":\n",
    "            gamer.ouch()\n",
    "\n",
    "        elif choice.lower() == \"rest\":\n",
    "            gamer.heal()\n",
    "\n",
    "        elif choice.lower() == \"add weapons\":\n",
    "            gamer.add_weapons()\n",
    "\n",
    "        elif choice.lower() == \"remove weapons\":\n",
    "            gamer.remove_weapons()\n",
    "\n",
    "        elif choice.lower() == \"check stats\":\n",
    "            gamer.show()\n",
    "\n",
    "        else:\n",
    "            print(\"Not a valid response.  Please choose one of the options.\")\n",
    "\n",
    "\n",
    "run()"
   ]
  },
  {
   "cell_type": "markdown",
   "metadata": {},
   "source": [
    "### Exercise 2 - Write a Python class which has two methods get_String and print_String. get_String accept a string from the user and print_String print the string in upper case"
   ]
  },
  {
   "cell_type": "code",
   "execution_count": null,
   "metadata": {},
   "outputs": [],
   "source": [
    "class These_Strings():\n",
    "\n",
    "    def __init__(self):\n",
    "        self.str = str\n",
    "        \n",
    "\n",
    "    def get_String(self):\n",
    "        self.str = input(\"What do you want to tell me? \")\n",
    "        \n",
    "    \n",
    "    def print_String(self):\n",
    "        print(self.str.upper())\n",
    "\n",
    "str = These_Strings()\n",
    "str.get_String()\n",
    "str.print_String()\n",
    "\n"
   ]
  }
 ],
 "metadata": {
  "kernelspec": {
   "display_name": "Python 3 (ipykernel)",
   "language": "python",
   "name": "python3"
  },
  "language_info": {
   "codemirror_mode": {
    "name": "ipython",
    "version": 3
   },
   "file_extension": ".py",
   "mimetype": "text/x-python",
   "name": "python",
   "nbconvert_exporter": "python",
   "pygments_lexer": "ipython3",
   "version": "3.12.0"
  }
 },
 "nbformat": 4,
 "nbformat_minor": 4
}
